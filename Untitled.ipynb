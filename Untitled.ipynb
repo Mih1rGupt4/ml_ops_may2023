{
 "cells": [
  {
   "cell_type": "code",
   "execution_count": 13,
   "id": "8cd0416f",
   "metadata": {},
   "outputs": [],
   "source": [
    "def load_data(url):\n",
    "    import pandas as pd\n",
    "    # Load dataset\n",
    "    data = pd.read_csv(filepath_or_buffer=url,sep=',')\n",
    "    return data\n",
    "\n",
    "def train_test_split(final_data,target_column):\n",
    "    from sklearn.model_selection import train_test_split\n",
    "    X = final_data.loc[:, final_data.columns != target_column]\n",
    "    y = final_data.loc[:, final_data.columns == target_column]\n",
    "    \n",
    "    X_train, X_test, y_train, y_test = train_test_split(X, y, test_size=0.3,stratify = y, random_state=47)\n",
    "    return X_train, X_test, y_train, y_test\n",
    "\n",
    "def training_basic_classifier(X_train,y_train):\n",
    "    from sklearn.linear_model import LogisticRegression\n",
    "    classifier = LogisticRegression()\n",
    "    classifier.fit(X_train,y_train)\n",
    "    \n",
    "    return classifier\n",
    "\n",
    "def predict_on_test_data(model,X_test):\n",
    "    y_pred = model.predict(X_test)\n",
    "    return y_pred\n",
    "\n",
    "def predict_prob_on_test_data(model,X_test):\n",
    "    y_pred = model.predict_proba(X_test)\n",
    "    return y_pred\n",
    "\n",
    "def get_metrics(y_true, y_pred, y_pred_prob):\n",
    "    from sklearn.metrics import accuracy_score,precision_score,recall_score,log_loss\n",
    "    acc = accuracy_score(y_true, y_pred)\n",
    "    prec = precision_score(y_true, y_pred,average='micro')\n",
    "    recall = recall_score(y_true, y_pred,average='micro')\n",
    "    entropy = log_loss(y_true, y_pred_prob)\n",
    "    return {'accuracy': round(acc, 2), 'precision': round(prec, 2), 'recall': round(recall, 2), 'entropy': round(entropy, 2)}\n",
    "\n",
    "def create_roc_auc_plot(clf, X_data, y_data):\n",
    "    import matplotlib.pyplot as plt\n",
    "    from sklearn import metrics\n",
    "    metrics.plot_roc_curve(clf, X_data, y_data) \n",
    "    plt.savefig('roc_auc_curve.png')\n",
    "\n",
    "def create_confusion_matrix_plot(clf, X_test, y_test):\n",
    "    from sklearn import metrics\n",
    "    import matplotlib.pyplot as plt\n",
    "    y_pred = predict_on_test_data(model,X_test)\n",
    "    metrics.ConfusionMatrixDisplay.from_predictions(y_pred=y_pred, y_true=y_test) \n",
    "    plt.savefig(\"confusion_matrix.png\")\n",
    "\n"
   ]
  },
  {
   "cell_type": "code",
   "execution_count": 14,
   "id": "79cb91e5",
   "metadata": {},
   "outputs": [
    {
     "name": "stderr",
     "output_type": "stream",
     "text": [
      "C:\\Users\\blazi\\miniconda3\\envs\\mlops_env\\lib\\site-packages\\sklearn\\utils\\validation.py:1143: DataConversionWarning: A column-vector y was passed when a 1d array was expected. Please change the shape of y to (n_samples, ), for example using ravel().\n",
      "  y = column_or_1d(y, warn=True)\n",
      "C:\\Users\\blazi\\miniconda3\\envs\\mlops_env\\lib\\site-packages\\sklearn\\linear_model\\_logistic.py:458: ConvergenceWarning: lbfgs failed to converge (status=1):\n",
      "STOP: TOTAL NO. of ITERATIONS REACHED LIMIT.\n",
      "\n",
      "Increase the number of iterations (max_iter) or scale the data as shown in:\n",
      "    https://scikit-learn.org/stable/modules/preprocessing.html\n",
      "Please also refer to the documentation for alternative solver options:\n",
      "    https://scikit-learn.org/stable/modules/linear_model.html#logistic-regression\n",
      "  n_iter_i = _check_optimize_result(\n"
     ]
    },
    {
     "name": "stdout",
     "output_type": "stream",
     "text": [
      "['Iris-setosa' 'Iris-setosa' 'Iris-setosa' 'Iris-setosa' 'Iris-virginica'\n",
      " 'Iris-virginica' 'Iris-versicolor' 'Iris-virginica' 'Iris-versicolor'\n",
      " 'Iris-versicolor' 'Iris-virginica' 'Iris-versicolor' 'Iris-virginica'\n",
      " 'Iris-setosa' 'Iris-setosa' 'Iris-virginica' 'Iris-setosa'\n",
      " 'Iris-versicolor' 'Iris-versicolor' 'Iris-versicolor' 'Iris-versicolor'\n",
      " 'Iris-virginica' 'Iris-virginica' 'Iris-setosa' 'Iris-setosa'\n",
      " 'Iris-virginica' 'Iris-versicolor' 'Iris-setosa' 'Iris-versicolor'\n",
      " 'Iris-virginica' 'Iris-setosa' 'Iris-virginica' 'Iris-setosa'\n",
      " 'Iris-setosa' 'Iris-setosa' 'Iris-setosa' 'Iris-virginica'\n",
      " 'Iris-virginica' 'Iris-virginica' 'Iris-versicolor' 'Iris-versicolor'\n",
      " 'Iris-virginica' 'Iris-virginica' 'Iris-versicolor' 'Iris-versicolor']\n",
      "[[9.60710279e-01 3.92887222e-02 9.98583071e-07]\n",
      " [9.34686826e-01 6.53125739e-02 5.99740348e-07]\n",
      " [9.70973752e-01 2.90259897e-02 2.58794204e-07]\n",
      " [9.54957616e-01 4.50399029e-02 2.48101696e-06]\n",
      " [1.74868696e-04 1.07975869e-01 8.91849263e-01]\n",
      " [1.59460768e-05 8.15785309e-02 9.18405523e-01]\n",
      " [3.57174944e-03 7.13596076e-01 2.82832175e-01]\n",
      " [4.31261930e-04 1.90655199e-01 8.08913539e-01]\n",
      " [8.32415310e-03 8.65320866e-01 1.26354980e-01]\n",
      " [1.95114300e-02 8.41164528e-01 1.39324042e-01]\n",
      " [2.92774038e-05 4.04356632e-02 9.59535059e-01]\n",
      " [7.77164055e-03 8.63231197e-01 1.28997163e-01]\n",
      " [7.45477631e-04 3.66650501e-01 6.32604021e-01]\n",
      " [9.67655451e-01 3.23442021e-02 3.46537547e-07]\n",
      " [9.77111493e-01 2.28883108e-02 1.96702074e-07]\n",
      " [1.69651928e-07 8.50609180e-03 9.91493739e-01]\n",
      " [9.59220061e-01 4.07795833e-02 3.55704079e-07]\n",
      " [1.76401238e-03 6.28536693e-01 3.69699295e-01]\n",
      " [1.09495657e-02 7.09636333e-01 2.79414101e-01]\n",
      " [7.39617728e-03 7.51547168e-01 2.41056655e-01]\n",
      " [1.24107863e-02 6.89962007e-01 2.97627207e-01]\n",
      " [4.05428392e-04 2.83008714e-01 7.16585857e-01]\n",
      " [1.39525809e-04 2.39849312e-01 7.60011162e-01]\n",
      " [9.68945652e-01 3.10539866e-02 3.61079485e-07]\n",
      " [9.39850540e-01 6.01470756e-02 2.38406587e-06]\n",
      " [5.86616049e-06 1.59278106e-02 9.84066323e-01]\n",
      " [6.49378535e-04 5.19571014e-01 4.79779607e-01]\n",
      " [9.75250970e-01 2.47487710e-02 2.58947338e-07]\n",
      " [1.84033977e-03 7.42304552e-01 2.55855108e-01]\n",
      " [9.34043276e-04 4.20266043e-01 5.78799914e-01]\n",
      " [9.76408814e-01 2.35908204e-02 3.65651947e-07]\n",
      " [8.57523649e-05 3.81443468e-02 9.61769901e-01]\n",
      " [9.85831517e-01 1.41683214e-02 1.61975030e-07]\n",
      " [9.81001766e-01 1.89979614e-02 2.72251558e-07]\n",
      " [9.64718513e-01 3.52799149e-02 1.57222975e-06]\n",
      " [9.61544350e-01 3.84551899e-02 4.59689708e-07]\n",
      " [1.39879839e-05 2.68052173e-02 9.73180795e-01]\n",
      " [7.57125700e-04 2.31719664e-01 7.67523211e-01]\n",
      " [1.56867798e-05 2.44294780e-02 9.75554835e-01]\n",
      " [2.55460035e-02 9.01568672e-01 7.28853241e-02]\n",
      " [4.40215028e-02 8.86396714e-01 6.95817837e-02]\n",
      " [2.31770275e-06 3.06969193e-02 9.69300763e-01]\n",
      " [4.09990208e-05 1.45973392e-01 8.53985609e-01]\n",
      " [2.12587638e-02 9.38018225e-01 4.07230114e-02]\n",
      " [3.96491180e-02 9.47660718e-01 1.26901635e-02]]\n",
      "{'accuracy': 0.93, 'precision': 0.93, 'recall': 0.93, 'entropy': 0.17}\n"
     ]
    },
    {
     "data": {
      "image/png": "[encoded data removed]",
      "text/plain": [
       "<Figure size 640x480 with 2 Axes>"
      ]
     },
     "metadata": {},
     "output_type": "display_data"
    }
   ],
   "source": [
    "url = 'https://raw.githubusercontent.com/TripathiAshutosh/dataset/main/iris.csv'\n",
    "data = load_data(url)\n",
    "data.head()\n",
    "\n",
    "target_column = 'class'\n",
    "X_train, X_test, y_train, y_test = train_test_split(data, target_column)\n",
    "\n",
    "model = training_basic_classifier(X_train,y_train)\n",
    "\n",
    "y_pred = predict_on_test_data(model,X_test)\n",
    "print(y_pred)\n",
    "y_pred_prob = predict_prob_on_test_data(model,X_test)\n",
    "print(y_pred_prob)\n",
    "\n",
    "run_metrics = get_metrics(y_test, y_pred, y_pred_prob)\n",
    "\n",
    "print(run_metrics)\n",
    "\n",
    "create_confusion_matrix_plot(model, X_test, y_test)\n",
    "\n"
   ]
  },
  {
   "cell_type": "code",
   "execution_count": 15,
   "id": "fcfe12d1",
   "metadata": {},
   "outputs": [],
   "source": [
    "def create_experiment(experiment_name,run_name, run_metrics,model, confusion_matrix_path = None, \n",
    "                      roc_auc_plot_path = None, run_params=None):\n",
    "    import mlflow\n",
    "    #mlflow.set_tracking_uri(\"http://localhost:5000\") \n",
    "    #use above line if you want to use any database like sqlite as backend storage for model else comment this line\n",
    "    mlflow.set_experiment(experiment_name)\n",
    "    \n",
    "    with mlflow.start_run(run_name=run_name):\n",
    "        \n",
    "        if not run_params == None:\n",
    "            for param in run_params:\n",
    "                mlflow.log_param(param, run_params[param])\n",
    "            \n",
    "        for metric in run_metrics:\n",
    "            mlflow.log_metric(metric, run_metrics[metric])\n",
    "        \n",
    "        \n",
    "        \n",
    "        if not confusion_matrix_path == None:\n",
    "            mlflow.log_artifact(confusion_matrix_path, 'confusion_materix')\n",
    "            \n",
    "        if not roc_auc_plot_path == None:\n",
    "            mlflow.log_artifact(roc_auc_plot_path, \"roc_auc_plot\")\n",
    "        \n",
    "        mlflow.set_tag(\"tag1\", \"Iris Classifier\")\n",
    "        mlflow.set_tags({\"tag2\":\"Logistic Regression\", \"tag3\":\"Multiclassification using Ovr - One vs rest class\"})\n",
    "        mlflow.sklearn.log_model(model, \"model\")\n",
    "    print('Run - %s is logged to Experiment - %s' %(run_name, experiment_name))\n"
   ]
  },
  {
   "cell_type": "code",
   "execution_count": 16,
   "id": "b3fbf6ea",
   "metadata": {},
   "outputs": [
    {
     "name": "stdout",
     "output_type": "stream",
     "text": [
      "Run - iris_classifier_18-05-23 is logged to Experiment - iris_classifier_18-05-23\n"
     ]
    }
   ],
   "source": [
    "\n",
    "from datetime import datetime\n",
    "experiment_name = \"iris_classifier_\"+ str(datetime.now().strftime(\"%d-%m-%y\")) ##basic classifier\n",
    "run_name=\"iris_classifier_\"+str(datetime.now().strftime(\"%d-%m-%y\"))\n",
    "create_experiment(experiment_name,run_name,run_metrics,model,'confusion_matrix.png')"
   ]
  },
  {
   "cell_type": "code",
   "execution_count": 17,
   "id": "854f35de",
   "metadata": {},
   "outputs": [
    {
     "name": "stderr",
     "output_type": "stream",
     "text": [
      "2023/05/18 12:58:37 WARNING mlflow.pyfunc: Detected one or more mismatches between the model's dependencies and the current Python environment:\n",
      " - mlflow (current: 2.3.2, required: mlflow==2.3)\n",
      "To fix the mismatches, call `mlflow.pyfunc.get_model_dependencies(model_uri)` to fetch the model's environment and install dependencies using the resulting environment file.\n"
     ]
    },
    {
     "data": {
      "text/plain": [
       "array(['Iris-setosa', 'Iris-setosa', 'Iris-setosa', 'Iris-setosa',\n",
       "       'Iris-virginica', 'Iris-virginica', 'Iris-versicolor',\n",
       "       'Iris-virginica', 'Iris-versicolor', 'Iris-versicolor',\n",
       "       'Iris-virginica', 'Iris-versicolor', 'Iris-virginica',\n",
       "       'Iris-setosa', 'Iris-setosa', 'Iris-virginica', 'Iris-setosa',\n",
       "       'Iris-versicolor', 'Iris-versicolor', 'Iris-versicolor',\n",
       "       'Iris-versicolor', 'Iris-virginica', 'Iris-virginica',\n",
       "       'Iris-setosa', 'Iris-setosa', 'Iris-virginica', 'Iris-versicolor',\n",
       "       'Iris-setosa', 'Iris-versicolor', 'Iris-virginica', 'Iris-setosa',\n",
       "       'Iris-virginica', 'Iris-setosa', 'Iris-setosa', 'Iris-setosa',\n",
       "       'Iris-setosa', 'Iris-virginica', 'Iris-virginica',\n",
       "       'Iris-virginica', 'Iris-versicolor', 'Iris-versicolor',\n",
       "       'Iris-virginica', 'Iris-virginica', 'Iris-versicolor',\n",
       "       'Iris-versicolor'], dtype=object)"
      ]
     },
     "execution_count": 17,
     "metadata": {},
     "output_type": "execute_result"
    }
   ],
   "source": [
    "import mlflow\n",
    "logged_model = 'runs:/0540d69a6b654d7ab6f8ff1dc7155786/model'\n",
    "\n",
    "# Load model as a PyFuncModel.\n",
    "loaded_model = mlflow.pyfunc.load_model(logged_model)\n",
    "\n",
    "# Predict on a Pandas DataFrame.\n",
    "import pandas as pd\n",
    "loaded_model.predict(pd.DataFrame(X_test))"
   ]
  },
  {
   "cell_type": "code",
   "execution_count": 18,
   "id": "d040f189",
   "metadata": {},
   "outputs": [],
   "source": [
    "def create_exp_and_register_model(experiment_name,run_name,run_metrics,model,confusion_matrix_path = None, \n",
    "                      roc_auc_plot_path = None, run_params=None):\n",
    "    mlflow.set_tracking_uri(\"http://localhost:5000\") \n",
    "    #use above line if you want to use any database like sqlite as backend storage for model else comment this line\n",
    "    mlflow.set_experiment(experiment_name)\n",
    "    with mlflow.start_run(run_name=run_name) as run:\n",
    "        if not run_params == None:\n",
    "            for param in run_params:\n",
    "                mlflow.log_param(param, run_params[param])\n",
    "            \n",
    "        for metric in run_metrics:\n",
    "            mlflow.log_metric(metric, run_metrics[metric])\n",
    "        \n",
    "        if not confusion_matrix_path == None:\n",
    "            mlflow.log_artifact(confusion_matrix_path, 'confusion_materix')\n",
    "            \n",
    "        if not roc_auc_plot_path == None:\n",
    "            mlflow.log_artifact(roc_auc_plot_path, \"roc_auc_plot\")\n",
    "        \n",
    "        mlflow.set_tag(\"tag1\", \"Random Forest\")\n",
    "        mlflow.set_tags({\"tag2\":\"Randomized Search CV\", \"tag3\":\"Production\"})\n",
    "        mlflow.sklearn.log_model(model, \"model\",registered_model_name=\"iris-classifier\")"
   ]
  },
  {
   "cell_type": "code",
   "execution_count": 19,
   "id": "1b8c2d60",
   "metadata": {},
   "outputs": [
    {
     "name": "stderr",
     "output_type": "stream",
     "text": [
      "2023/05/18 12:58:40 INFO mlflow.tracking.fluent: Experiment with name 'iris_classifier_method-1' does not exist. Creating a new experiment.\n",
      "Successfully registered model 'iris-classifier'.\n",
      "2023/05/18 12:58:42 INFO mlflow.tracking._model_registry.client: Waiting up to 300 seconds for model version to finish creation. Model name: iris-classifier, version 1\n",
      "Created version '1' of model 'iris-classifier'.\n"
     ]
    }
   ],
   "source": [
    "experiment_name = \"iris_classifier_method-1\" #+ str(datetime.now().strftime(\"%d-%m-%y\")) ##basic classifier\n",
    "run_name=\"iris_classifier_method-1\" #+str(datetime.now().strftime(\"%d-%m-%y\"))\n",
    "create_exp_and_register_model(experiment_name,run_name,run_metrics,model,'confusion_matrix.png')"
   ]
  },
  {
   "cell_type": "code",
   "execution_count": 20,
   "id": "b31944b6",
   "metadata": {},
   "outputs": [
    {
     "name": "stderr",
     "output_type": "stream",
     "text": [
      "2023/05/18 12:58:42 WARNING mlflow.pyfunc: Detected one or more mismatches between the model's dependencies and the current Python environment:\n",
      " - mlflow (current: 2.3.2, required: mlflow==2.3)\n",
      "To fix the mismatches, call `mlflow.pyfunc.get_model_dependencies(model_uri)` to fetch the model's environment and install dependencies using the resulting environment file.\n"
     ]
    },
    {
     "name": "stdout",
     "output_type": "stream",
     "text": [
      "['Iris-setosa' 'Iris-setosa' 'Iris-setosa' 'Iris-setosa' 'Iris-virginica'\n",
      " 'Iris-virginica' 'Iris-versicolor' 'Iris-virginica' 'Iris-versicolor'\n",
      " 'Iris-versicolor' 'Iris-virginica' 'Iris-versicolor' 'Iris-virginica'\n",
      " 'Iris-setosa' 'Iris-setosa' 'Iris-virginica' 'Iris-setosa'\n",
      " 'Iris-versicolor' 'Iris-versicolor' 'Iris-versicolor' 'Iris-versicolor'\n",
      " 'Iris-virginica' 'Iris-virginica' 'Iris-setosa' 'Iris-setosa'\n",
      " 'Iris-virginica' 'Iris-versicolor' 'Iris-setosa' 'Iris-versicolor'\n",
      " 'Iris-virginica' 'Iris-setosa' 'Iris-virginica' 'Iris-setosa'\n",
      " 'Iris-setosa' 'Iris-setosa' 'Iris-setosa' 'Iris-virginica'\n",
      " 'Iris-virginica' 'Iris-virginica' 'Iris-versicolor' 'Iris-versicolor'\n",
      " 'Iris-virginica' 'Iris-virginica' 'Iris-versicolor' 'Iris-versicolor']\n",
      "[[9.60710279e-01 3.92887222e-02 9.98583071e-07]\n",
      " [9.34686826e-01 6.53125739e-02 5.99740348e-07]\n",
      " [9.70973752e-01 2.90259897e-02 2.58794204e-07]\n",
      " [9.54957616e-01 4.50399029e-02 2.48101696e-06]\n",
      " [1.74868696e-04 1.07975869e-01 8.91849263e-01]\n",
      " [1.59460768e-05 8.15785309e-02 9.18405523e-01]\n",
      " [3.57174944e-03 7.13596076e-01 2.82832175e-01]\n",
      " [4.31261930e-04 1.90655199e-01 8.08913539e-01]\n",
      " [8.32415310e-03 8.65320866e-01 1.26354980e-01]\n",
      " [1.95114300e-02 8.41164528e-01 1.39324042e-01]\n",
      " [2.92774038e-05 4.04356632e-02 9.59535059e-01]\n",
      " [7.77164055e-03 8.63231197e-01 1.28997163e-01]\n",
      " [7.45477631e-04 3.66650501e-01 6.32604021e-01]\n",
      " [9.67655451e-01 3.23442021e-02 3.46537547e-07]\n",
      " [9.77111493e-01 2.28883108e-02 1.96702074e-07]\n",
      " [1.69651928e-07 8.50609180e-03 9.91493739e-01]\n",
      " [9.59220061e-01 4.07795833e-02 3.55704079e-07]\n",
      " [1.76401238e-03 6.28536693e-01 3.69699295e-01]\n",
      " [1.09495657e-02 7.09636333e-01 2.79414101e-01]\n",
      " [7.39617728e-03 7.51547168e-01 2.41056655e-01]\n",
      " [1.24107863e-02 6.89962007e-01 2.97627207e-01]\n",
      " [4.05428392e-04 2.83008714e-01 7.16585857e-01]\n",
      " [1.39525809e-04 2.39849312e-01 7.60011162e-01]\n",
      " [9.68945652e-01 3.10539866e-02 3.61079485e-07]\n",
      " [9.39850540e-01 6.01470756e-02 2.38406587e-06]\n",
      " [5.86616049e-06 1.59278106e-02 9.84066323e-01]\n",
      " [6.49378535e-04 5.19571014e-01 4.79779607e-01]\n",
      " [9.75250970e-01 2.47487710e-02 2.58947338e-07]\n",
      " [1.84033977e-03 7.42304552e-01 2.55855108e-01]\n",
      " [9.34043276e-04 4.20266043e-01 5.78799914e-01]\n",
      " [9.76408814e-01 2.35908204e-02 3.65651947e-07]\n",
      " [8.57523649e-05 3.81443468e-02 9.61769901e-01]\n",
      " [9.85831517e-01 1.41683214e-02 1.61975030e-07]\n",
      " [9.81001766e-01 1.89979614e-02 2.72251558e-07]\n",
      " [9.64718513e-01 3.52799149e-02 1.57222975e-06]\n",
      " [9.61544350e-01 3.84551899e-02 4.59689708e-07]\n",
      " [1.39879839e-05 2.68052173e-02 9.73180795e-01]\n",
      " [7.57125700e-04 2.31719664e-01 7.67523211e-01]\n",
      " [1.56867798e-05 2.44294780e-02 9.75554835e-01]\n",
      " [2.55460035e-02 9.01568672e-01 7.28853241e-02]\n",
      " [4.40215028e-02 8.86396714e-01 6.95817837e-02]\n",
      " [2.31770275e-06 3.06969193e-02 9.69300763e-01]\n",
      " [4.09990208e-05 1.45973392e-01 8.53985609e-01]\n",
      " [2.12587638e-02 9.38018225e-01 4.07230114e-02]\n",
      " [3.96491180e-02 9.47660718e-01 1.26901635e-02]]\n"
     ]
    }
   ],
   "source": [
    "import mlflow.pyfunc\n",
    "\n",
    "model_name = \"iris-classifier\"\n",
    "model_version = 1\n",
    "\n",
    "model = mlflow.pyfunc.load_model(\n",
    "    model_uri=f\"models:/{model_name}/{model_version}\"\n",
    ")\n",
    "\n",
    "y_pred = model.predict(X_test)\n",
    "print(y_pred)\n",
    "\n",
    "sklearn_model = mlflow.sklearn.load_model(\n",
    "    model_uri=f\"models:/{model_name}/{model_version}\"\n",
    ")\n",
    "y_pred_prob = sklearn_model.predict_proba(X_test)\n",
    "print(y_pred_prob)"
   ]
  },
  {
   "cell_type": "code",
   "execution_count": 21,
   "id": "f1a71508",
   "metadata": {},
   "outputs": [
    {
     "data": {
      "text/plain": [
       "<ModelVersion: aliases=[], creation_timestamp=1684394922548, current_stage='Production', description='', last_updated_timestamp=1684394922683, name='iris-classifier', run_id='85d5c1c2226448f3a0ee2f8207202736', run_link='', source=('file:///M:/NHCE/Global Course/Global Course - '\n",
       " '2/ml_ops_may2023/artifacts/2/85d5c1c2226448f3a0ee2f8207202736/artifacts/model'), status='READY', status_message='', tags={}, user_id='', version='1'>"
      ]
     },
     "execution_count": 21,
     "metadata": {},
     "output_type": "execute_result"
    }
   ],
   "source": [
    "client = mlflow.tracking.MlflowClient()\n",
    "client.transition_model_version_stage(\n",
    "    name=\"iris-classifier\",\n",
    "    version=1,\n",
    "    stage=\"Production\"\n",
    ")"
   ]
  },
  {
   "cell_type": "code",
   "execution_count": 22,
   "id": "b8be032b",
   "metadata": {},
   "outputs": [
    {
     "name": "stderr",
     "output_type": "stream",
     "text": [
      "2023/05/18 12:58:42 WARNING mlflow.pyfunc: Detected one or more mismatches between the model's dependencies and the current Python environment:\n",
      " - mlflow (current: 2.3.2, required: mlflow==2.3)\n",
      "To fix the mismatches, call `mlflow.pyfunc.get_model_dependencies(model_uri)` to fetch the model's environment and install dependencies using the resulting environment file.\n"
     ]
    },
    {
     "name": "stdout",
     "output_type": "stream",
     "text": [
      "['Iris-setosa' 'Iris-setosa' 'Iris-setosa' 'Iris-setosa' 'Iris-virginica'\n",
      " 'Iris-virginica' 'Iris-versicolor' 'Iris-virginica' 'Iris-versicolor'\n",
      " 'Iris-versicolor' 'Iris-virginica' 'Iris-versicolor' 'Iris-virginica'\n",
      " 'Iris-setosa' 'Iris-setosa' 'Iris-virginica' 'Iris-setosa'\n",
      " 'Iris-versicolor' 'Iris-versicolor' 'Iris-versicolor' 'Iris-versicolor'\n",
      " 'Iris-virginica' 'Iris-virginica' 'Iris-setosa' 'Iris-setosa'\n",
      " 'Iris-virginica' 'Iris-versicolor' 'Iris-setosa' 'Iris-versicolor'\n",
      " 'Iris-virginica' 'Iris-setosa' 'Iris-virginica' 'Iris-setosa'\n",
      " 'Iris-setosa' 'Iris-setosa' 'Iris-setosa' 'Iris-virginica'\n",
      " 'Iris-virginica' 'Iris-virginica' 'Iris-versicolor' 'Iris-versicolor'\n",
      " 'Iris-virginica' 'Iris-virginica' 'Iris-versicolor' 'Iris-versicolor']\n"
     ]
    }
   ],
   "source": [
    "import mlflow.pyfunc\n",
    "\n",
    "model_name = \"iris-classifier\"\n",
    "stage = 'Production'\n",
    "\n",
    "model = mlflow.pyfunc.load_model(\n",
    "    model_uri=f\"models:/{model_name}/{stage}\"\n",
    ")\n",
    "\n",
    "y_pred = model.predict(X_test)\n",
    "print(y_pred)"
   ]
  },
  {
   "cell_type": "code",
   "execution_count": 23,
   "id": "e40ba64e",
   "metadata": {},
   "outputs": [
    {
     "name": "stdout",
     "output_type": "stream",
     "text": [
      "['Iris-virginica']\n",
      "[[2.92774038e-05 4.04356632e-02 9.59535059e-01]]\n"
     ]
    },
    {
     "name": "stderr",
     "output_type": "stream",
     "text": [
      "C:\\Users\\blazi\\miniconda3\\envs\\mlops_env\\lib\\site-packages\\sklearn\\base.py:439: UserWarning: X does not have valid feature names, but LogisticRegression was fitted with feature names\n",
      "  warnings.warn(\n",
      "C:\\Users\\blazi\\miniconda3\\envs\\mlops_env\\lib\\site-packages\\sklearn\\base.py:439: UserWarning: X does not have valid feature names, but LogisticRegression was fitted with feature names\n",
      "  warnings.warn(\n"
     ]
    }
   ],
   "source": [
    "import mlflow.pyfunc\n",
    "\n",
    "model_name = \"iris-classifier\"\n",
    "stage = 'Production'\n",
    "\n",
    "model = mlflow.sklearn.load_model(\n",
    "    model_uri=f\"models:/{model_name}/{stage}\"\n",
    ")\n",
    "\n",
    "y_pred = model.predict([[6.7,3.3,5.7,2.1]])\n",
    "print(y_pred)\n",
    "y_pred_prob = model.predict_proba([[6.7,3.3,5.7,2.1]])\n",
    "print(y_pred_prob)"
   ]
  },
  {
   "cell_type": "code",
   "execution_count": 24,
   "id": "67db1972",
   "metadata": {},
   "outputs": [],
   "source": [
    "mlflow.set_tracking_uri('http://localhost:5000')"
   ]
  },
  {
   "cell_type": "code",
   "execution_count": null,
   "id": "3ac35243",
   "metadata": {},
   "outputs": [],
   "source": []
  }
 ],
 "metadata": {
  "kernelspec": {
   "display_name": "mlops_env",
   "language": "python",
   "name": "mlops_env"
  },
  "language_info": {
   "codemirror_mode": {
    "name": "ipython",
    "version": 3
   },
   "file_extension": ".py",
   "mimetype": "text/x-python",
   "name": "python",
   "nbconvert_exporter": "python",
   "pygments_lexer": "ipython3",
   "version": "3.10.11"
  }
 },
 "nbformat": 4,
 "nbformat_minor": 5
}
